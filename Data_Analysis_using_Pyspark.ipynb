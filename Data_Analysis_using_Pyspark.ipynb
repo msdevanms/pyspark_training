{
  "nbformat": 4,
  "nbformat_minor": 0,
  "metadata": {
    "colab": {
      "provenance": [],
      "include_colab_link": true
    },
    "kernelspec": {
      "name": "python3",
      "display_name": "Python 3"
    }
  },
  "cells": [
    {
      "cell_type": "markdown",
      "metadata": {
        "id": "view-in-github",
        "colab_type": "text"
      },
      "source": [
        "<a href=\"https://colab.research.google.com/github/msdevanms/pyspark_training/blob/main/Data_Analysis_using_Pyspark.ipynb\" target=\"_parent\"><img src=\"https://colab.research.google.com/assets/colab-badge.svg\" alt=\"Open In Colab\"/></a>"
      ]
    },
    {
      "cell_type": "markdown",
      "metadata": {
        "id": "jPyDpDqvZuLo"
      },
      "source": [
        "# **Welcome**\n",
        "[Here are the data that you need to import/mirror to your google drive, and then mount it](https://drive.google.com/drive/folders/1Crp5wbuowpRaliQbgBeSutVRapT7fGJv?usp=sharing)\n"
      ]
    },
    {
      "cell_type": "markdown",
      "metadata": {
        "id": "F2YNhXuUwGNl"
      },
      "source": [
        "### Let's mount the google drive"
      ]
    },
    {
      "cell_type": "code",
      "metadata": {
        "id": "MmQC7J5cvkzE"
      },
      "source": [
        "from google.colab import drive\n",
        "drive.mount('/content/drive')"
      ],
      "execution_count": null,
      "outputs": []
    },
    {
      "cell_type": "markdown",
      "metadata": {
        "id": "cs9EInKyWicZ"
      },
      "source": [
        "# Task 1 :\n",
        "Installing pyspark module"
      ]
    },
    {
      "cell_type": "code",
      "metadata": {
        "id": "LJq2nzUKWujx"
      },
      "source": [
        "!pip install pyspark"
      ],
      "execution_count": null,
      "outputs": []
    },
    {
      "cell_type": "markdown",
      "metadata": {
        "id": "dVNAlw2jWiWb"
      },
      "source": [
        "Importing the modules"
      ]
    },
    {
      "cell_type": "code",
      "metadata": {
        "id": "gS3YIWJiW7I3"
      },
      "source": [
        "from pyspark.sql import SparkSession\n",
        "from pyspark.sql.functions import count, desc , col, max\n",
        "import matplotlib.pyplot as plts"
      ],
      "execution_count": null,
      "outputs": []
    },
    {
      "cell_type": "markdown",
      "metadata": {
        "id": "RKuIUYLwSkNP"
      },
      "source": [
        "creating spark session"
      ]
    },
    {
      "cell_type": "code",
      "metadata": {
        "id": "XXSZBvRgSnCN",
        "cellView": "both"
      },
      "source": [
        "spark = SparkSession.builder.appName('spark_app').getOrCreate()"
      ],
      "execution_count": null,
      "outputs": []
    },
    {
      "cell_type": "markdown",
      "metadata": {
        "id": "vv_SKqr8T9mT"
      },
      "source": [
        "# Task 2 :\n",
        "importing the *Listenings.csv* file:"
      ]
    },
    {
      "cell_type": "code",
      "metadata": {
        "id": "gK22lJDRTuKY"
      },
      "source": [
        "listening_csv_path = '/content/drive/My Drive/dataset/listenings.csv'\n",
        "listening_df = spark.read.format('csv').option('inferSchema', True).option('header', True).load(listening_csv_path)"
      ],
      "execution_count": null,
      "outputs": []
    },
    {
      "cell_type": "markdown",
      "metadata": {
        "id": "s1i6KVshykdn"
      },
      "source": [
        "let's check the data:"
      ]
    },
    {
      "cell_type": "code",
      "metadata": {
        "id": "5Ji0zViUyjUE"
      },
      "source": [
        "listening_df.show()"
      ],
      "execution_count": null,
      "outputs": []
    },
    {
      "cell_type": "markdown",
      "metadata": {
        "id": "HS6wd2d_woNC"
      },
      "source": [
        "let's delete useless columns:"
      ]
    },
    {
      "cell_type": "code",
      "metadata": {
        "id": "pIMzBAglwtNP"
      },
      "source": [
        "listening_df = listening_df.drop('date')"
      ],
      "execution_count": null,
      "outputs": []
    },
    {
      "cell_type": "markdown",
      "metadata": {
        "id": "MwpJJeWa4qmn"
      },
      "source": [
        "drop the null rows:"
      ]
    },
    {
      "cell_type": "code",
      "metadata": {
        "id": "Botf6-Vb4uqs"
      },
      "source": [
        "listning_df = listening_df.na.drop()"
      ],
      "execution_count": null,
      "outputs": []
    },
    {
      "cell_type": "markdown",
      "metadata": {
        "id": "tTN6jr3K4xkF"
      },
      "source": [
        "let's check the dataset again:"
      ]
    },
    {
      "cell_type": "code",
      "metadata": {
        "id": "JDp_rdEY40u3"
      },
      "source": [
        "listening_df.show()"
      ],
      "execution_count": null,
      "outputs": []
    },
    {
      "cell_type": "markdown",
      "metadata": {
        "id": "Z7nKCYoZltnv"
      },
      "source": [
        "let's see the schema:"
      ]
    },
    {
      "cell_type": "code",
      "metadata": {
        "id": "qVg1jt1OyWdh"
      },
      "source": [
        "listening_df.printSchema()"
      ],
      "execution_count": null,
      "outputs": []
    },
    {
      "cell_type": "markdown",
      "metadata": {
        "id": "JMkQsQt2xSb5"
      },
      "source": [
        "let's see the shape of our dataframe:"
      ]
    },
    {
      "cell_type": "code",
      "metadata": {
        "id": "6POkV3YFmh6b"
      },
      "source": [
        "shape = (listening_df.count(), len(listening_df.columns))\n",
        "print(shape)"
      ],
      "execution_count": null,
      "outputs": []
    },
    {
      "cell_type": "markdown",
      "metadata": {
        "id": "XMD0DhFl2FEJ"
      },
      "source": [
        "# Task 3:\n",
        "\n",
        "**Query #0:**\n",
        "select two columns: track and artist"
      ]
    },
    {
      "cell_type": "code",
      "metadata": {
        "id": "FZTdA5wn2TZy"
      },
      "source": [
        "q0 = listening_df.select('artist', 'track')\n",
        "q0.show()"
      ],
      "execution_count": null,
      "outputs": []
    },
    {
      "cell_type": "markdown",
      "metadata": {
        "id": "QRcgXOFs2hjw"
      },
      "source": [
        "**Query #1**:\n",
        "\n",
        "Let's find all of the records of those users who have listened to ***Rihanna***"
      ]
    },
    {
      "cell_type": "code",
      "metadata": {
        "id": "ICyiTMVnppLw"
      },
      "source": [
        "q1 = listening_df.select('*').filter(listening_df.artist == 'Rihanna')\n",
        "q1.show()"
      ],
      "execution_count": null,
      "outputs": []
    },
    {
      "cell_type": "markdown",
      "metadata": {
        "id": "I0IafeyvFU9O"
      },
      "source": [
        "**Query #2:**\n",
        "\n",
        "Let's find top 10 users who are fan of ***Rihanna***"
      ]
    },
    {
      "cell_type": "code",
      "metadata": {
        "id": "3-hM9kMm7JmI"
      },
      "source": [
        "q2 = listening_df.select('user_id').filter(listening_df.artist == 'Rihanna').groupby('user_id').agg(count('user_id').alias('count')).orderBy(desc('count')).limit(10)\n",
        "q2.show()"
      ],
      "execution_count": null,
      "outputs": []
    },
    {
      "cell_type": "markdown",
      "metadata": {
        "id": "hgAAl6aAcp41"
      },
      "source": [
        "**Query #3:**\n",
        "\n",
        "find top 10 famous tracks"
      ]
    },
    {
      "cell_type": "code",
      "metadata": {
        "id": "qlh3IUzfJ3_I"
      },
      "source": [
        "q3 = listening_df.select('artist', 'track').groupby('artist', 'track').agg(count('*').alias('count')).orderBy(desc('count')).limit(10)\n",
        "q3.show()"
      ],
      "execution_count": null,
      "outputs": []
    },
    {
      "cell_type": "markdown",
      "metadata": {
        "id": "HqhPhQvjeXt0"
      },
      "source": [
        "**Query #4:**\n",
        "\n",
        "find top 10 famous tracks of ***Rihanna***"
      ]
    },
    {
      "cell_type": "code",
      "metadata": {
        "id": "D_npmdh1ec8y"
      },
      "source": [
        "q4 = listening_df.select('artist', 'track').filter(listening_df.artist =='Rihanna').groupBy('artist', 'track').agg(count('*').alias('count')).orderBy(desc('count')).limit(10)\n",
        "q4.show()"
      ],
      "execution_count": null,
      "outputs": []
    },
    {
      "cell_type": "markdown",
      "metadata": {
        "id": "E6pgcH0p1ZXo"
      },
      "source": [
        "**Query #5:**\n",
        "\n",
        "find top 10 famous albums"
      ]
    },
    {
      "cell_type": "code",
      "metadata": {
        "id": "c5YHm6yKenE7"
      },
      "source": [
        "q5 = listening_df.select('artist', 'album').groupBy('artist', 'album').agg(count('*').alias('count')).orderBy(desc('count')).limit(10)\n",
        "q5.show()"
      ],
      "execution_count": null,
      "outputs": []
    },
    {
      "cell_type": "markdown",
      "metadata": {
        "id": "YXev8HQ57bdq"
      },
      "source": [
        "# Task 4 :\n",
        "importing the ***genre.csv*** file:"
      ]
    },
    {
      "cell_type": "code",
      "metadata": {
        "id": "tpXSrYfu14PB"
      },
      "source": [
        "genre_csv_path = '/content/drive/My Drive/dataset/genre.csv'\n",
        "genre_df = spark.read.format('csv').option('inferSchema', True).option('header', True).load(genre_csv_path)"
      ],
      "execution_count": null,
      "outputs": []
    },
    {
      "cell_type": "markdown",
      "metadata": {
        "id": "aCHSo36W9RcP"
      },
      "source": [
        "let's check the data"
      ]
    },
    {
      "cell_type": "code",
      "metadata": {
        "id": "LJu4Ouz89O6_"
      },
      "source": [
        "genre_df.show()"
      ],
      "execution_count": null,
      "outputs": []
    },
    {
      "cell_type": "markdown",
      "metadata": {
        "id": "72OpWX7F98qg"
      },
      "source": [
        "Let's inner join these two data frames"
      ]
    },
    {
      "cell_type": "code",
      "source": [
        "data = listening_df.join(genre_df, how = 'inner', on=['artist'])\n",
        "data.show()"
      ],
      "metadata": {
        "id": "16VPCpI2DjjB"
      },
      "execution_count": null,
      "outputs": []
    },
    {
      "cell_type": "markdown",
      "metadata": {
        "id": "yM_f5qILBNeI"
      },
      "source": [
        "**Query #6**\n",
        "\n",
        "find top 10 users who are fan of ***pop*** music"
      ]
    },
    {
      "cell_type": "code",
      "metadata": {
        "id": "dognQVlxBi2n"
      },
      "source": [
        "q6 = data.select('user_id').filter(data.genre == 'pop').groupBy('user_id').agg(count('*').alias('count')).orderBy(desc('count')).limit(10)\n",
        "q6.show()"
      ],
      "execution_count": null,
      "outputs": []
    },
    {
      "cell_type": "markdown",
      "metadata": {
        "id": "63quzy7t-zb7"
      },
      "source": [
        "**Query #7**\n",
        "\n",
        "find top 10 famous genres"
      ]
    },
    {
      "cell_type": "code",
      "metadata": {
        "id": "aDFcoPPk-Rhf"
      },
      "source": [
        "q7 = data.select('genre').groupBy('genre').agg(count('*').alias('count')).orderBy(desc('count')).limit(10)\n",
        "q7.show()"
      ],
      "execution_count": null,
      "outputs": []
    },
    {
      "cell_type": "markdown",
      "metadata": {
        "id": "hrZOAWVgLMZo"
      },
      "source": [
        "# Task 5:\n",
        "**Query #8**\n",
        "\n",
        "find out each user favourite genre"
      ]
    },
    {
      "cell_type": "code",
      "metadata": {
        "id": "H3AWxlkbLvCg"
      },
      "source": [
        "q8 = data.select('user_id', 'genre').groupBy('user_id', 'genre').agg(count('*').alias('count')).orderBy('user_id')\n",
        "q8 .show()"
      ],
      "execution_count": null,
      "outputs": []
    },
    {
      "cell_type": "markdown",
      "metadata": {
        "id": "6oIyhOHkCDuv"
      },
      "source": [
        "**Query #9**\n",
        "\n",
        "find out how many pop,rock,metal and hip hop singers we have\n",
        "\n",
        "and then visulize it using bar chart"
      ]
    },
    {
      "cell_type": "code",
      "source": [
        "q9 = genre_df.select('genre').filter( (col('genre')=='pop') | (col('genre')=='rock') | (col('genre')=='metal') | (col('genre')=='hip hop')).groupBy('genre').agg(count('genre').alias('count'))\n",
        "q9.show()"
      ],
      "metadata": {
        "id": "13WwaArdJAr2"
      },
      "execution_count": null,
      "outputs": []
    },
    {
      "cell_type": "markdown",
      "metadata": {
        "id": "h0h2SSk8InMH"
      },
      "source": [
        "Now, let's visualize the results using ***matplotlib***"
      ]
    },
    {
      "cell_type": "code",
      "metadata": {
        "id": "J-n8gOC0Imj5"
      },
      "source": [
        "q9_list = q9.collect()"
      ],
      "execution_count": null,
      "outputs": []
    },
    {
      "cell_type": "code",
      "metadata": {
        "id": "CMigHLrEQgKv"
      },
      "source": [
        "labels = [row['genre'] for row in q9_list]\n",
        "counts = [row['count'] for row in q9_list]"
      ],
      "execution_count": null,
      "outputs": []
    },
    {
      "cell_type": "code",
      "metadata": {
        "id": "FYLE4Mbu_Lbu"
      },
      "source": [
        "print(labels)\n",
        "print(counts)"
      ],
      "execution_count": null,
      "outputs": []
    },
    {
      "cell_type": "markdown",
      "metadata": {
        "id": "1iDrvEwYQ4AE"
      },
      "source": [
        "now lets visualize these two lists using a bar chart"
      ]
    },
    {
      "cell_type": "code",
      "metadata": {
        "id": "XOOq1U9BQjKI"
      },
      "source": [
        "plts.bar(labels,counts)"
      ],
      "execution_count": null,
      "outputs": []
    }
  ]
}
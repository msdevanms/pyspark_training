{
  "nbformat": 4,
  "nbformat_minor": 0,
  "metadata": {
    "colab": {
      "provenance": [],
      "authorship_tag": "ABX9TyOOFcErdK7Q/ax9oRMZU1hO",
      "include_colab_link": true
    },
    "kernelspec": {
      "name": "python3",
      "display_name": "Python 3"
    },
    "language_info": {
      "name": "python"
    }
  },
  "cells": [
    {
      "cell_type": "markdown",
      "metadata": {
        "id": "view-in-github",
        "colab_type": "text"
      },
      "source": [
        "<a href=\"https://colab.research.google.com/github/msdevanms/pyspark_training/blob/main/Parquet_size.ipynb\" target=\"_parent\"><img src=\"https://colab.research.google.com/assets/colab-badge.svg\" alt=\"Open In Colab\"/></a>"
      ]
    },
    {
      "cell_type": "markdown",
      "source": [
        "\n",
        "\n",
        "```\n",
        "# Download this file and upload to your drive\n",
        "\n",
        "```\n",
        "[Download file](https://github.com/msdevanms/pyspark_training/blob/main/Parquet_size.ipynb)\n",
        "\n"
      ],
      "metadata": {
        "id": "A81n-T9H_gcK"
      }
    },
    {
      "cell_type": "code",
      "execution_count": null,
      "metadata": {
        "colab": {
          "base_uri": "https://localhost:8080/"
        },
        "id": "BLlTImNG23QN",
        "outputId": "5c1b22d7-5922-46d1-b7cc-9fdbcb6209a7"
      },
      "outputs": [
        {
          "output_type": "stream",
          "name": "stdout",
          "text": [
            "Looking in indexes: https://pypi.org/simple, https://us-python.pkg.dev/colab-wheels/public/simple/\n",
            "Collecting pyspark\n",
            "  Downloading pyspark-3.4.0.tar.gz (310.8 MB)\n",
            "\u001b[2K     \u001b[90m━━━━━━━━━━━━━━━━━━━━━━━━━━━━━━━━━━━━━━━\u001b[0m \u001b[32m310.8/310.8 MB\u001b[0m \u001b[31m4.5 MB/s\u001b[0m eta \u001b[36m0:00:00\u001b[0m\n",
            "\u001b[?25h  Preparing metadata (setup.py) ... \u001b[?25l\u001b[?25hdone\n",
            "Requirement already satisfied: py4j==0.10.9.7 in /usr/local/lib/python3.10/dist-packages (from pyspark) (0.10.9.7)\n",
            "Building wheels for collected packages: pyspark\n",
            "  Building wheel for pyspark (setup.py) ... \u001b[?25l\u001b[?25hdone\n",
            "  Created wheel for pyspark: filename=pyspark-3.4.0-py2.py3-none-any.whl size=311317130 sha256=abe9b5bdbd9b2055724d24514208ec309f0e5a02ebc9c03de8edf514c8960fdf\n",
            "  Stored in directory: /root/.cache/pip/wheels/7b/1b/4b/3363a1d04368e7ff0d408e57ff57966fcdf00583774e761327\n",
            "Successfully built pyspark\n",
            "Installing collected packages: pyspark\n",
            "Successfully installed pyspark-3.4.0\n"
          ]
        }
      ],
      "source": [
        "!pip install pyspark\n"
      ]
    },
    {
      "cell_type": "code",
      "source": [
        "\n",
        "# Create SparkSession and sparkcontext\n",
        "from pyspark.sql import SparkSession\n",
        "spark = SparkSession.builder\\\n",
        "                    .master(\"local\")\\\n",
        "                    .appName('Firstprogram')\\\n",
        "                    .getOrCreate()\n",
        "sc=spark.sparkContext\n",
        "from pyspark.sql.functions import col,lit\n"
      ],
      "metadata": {
        "id": "Xhpr3Zoq3e6U"
      },
      "execution_count": null,
      "outputs": []
    },
    {
      "cell_type": "code",
      "source": [
        "res = spark.read.parquet(\"userdata1.parquet\")"
      ],
      "metadata": {
        "id": "HWdZ1mUc3p_6"
      },
      "execution_count": null,
      "outputs": []
    },
    {
      "cell_type": "code",
      "source": [
        "columnsList = []\n",
        "for lp in range(100):\n",
        "  columnsList.append('col-{0}'.format(lp + 1))"
      ],
      "metadata": {
        "id": "O93AnUL-7lco"
      },
      "execution_count": null,
      "outputs": []
    },
    {
      "cell_type": "code",
      "source": [
        "for col in columnsList:\n",
        "    res = res.withColumn(col, lit(1))"
      ],
      "metadata": {
        "id": "lvjV60bZ6tlA"
      },
      "execution_count": null,
      "outputs": []
    },
    {
      "cell_type": "code",
      "source": [
        "res.printSchema"
      ],
      "metadata": {
        "colab": {
          "base_uri": "https://localhost:8080/"
        },
        "id": "X0-iWEzz340B",
        "outputId": "9a9d86a4-203e-48b6-d5c3-9215e022a87c"
      },
      "execution_count": null,
      "outputs": [
        {
          "output_type": "execute_result",
          "data": {
            "text/plain": [
              "<bound method DataFrame.printSchema of DataFrame[registration_dttm: timestamp, id: int, first_name: string, last_name: string, email: string, gender: string, ip_address: string, cc: string, country: string, birthdate: string, salary: double, title: string, comments: string, mycol1: int, mycol2: int, mycol3: int, mycol4: int, mycol5: int, mycol6: int, col-1: int, col-2: int, col-3: int, col-4: int, col-5: int, col-6: int, col-7: int, col-8: int, col-9: int, col-10: int, col-11: int, col-12: int, col-13: int, col-14: int, col-15: int, col-16: int, col-17: int, col-18: int, col-19: int, col-20: int, col-21: int, col-22: int, col-23: int, col-24: int, col-25: int, col-26: int, col-27: int, col-28: int, col-29: int, col-30: int, col-31: int, col-32: int, col-33: int, col-34: int, col-35: int, col-36: int, col-37: int, col-38: int, col-39: int, col-40: int, col-41: int, col-42: int, col-43: int, col-44: int, col-45: int, col-46: int, col-47: int, col-48: int, col-49: int, col-50: int, col-51: int, col-52: int, col-53: int, col-54: int, col-55: int, col-56: int, col-57: int, col-58: int, col-59: int, col-60: int, col-61: int, col-62: int, col-63: int, col-64: int, col-65: int, col-66: int, col-67: int, col-68: int, col-69: int, col-70: int, col-71: int, col-72: int, col-73: int, col-74: int, col-75: int, col-76: int, col-77: int, col-78: int, col-79: int, col-80: int, col-81: int, col-82: int, col-83: int, col-84: int, col-85: int, col-86: int, col-87: int, col-88: int, col-89: int, col-90: int, col-91: int, col-92: int, col-93: int, col-94: int, col-95: int, col-96: int, col-97: int, col-98: int, col-99: int, col-100: int]>"
            ]
          },
          "metadata": {},
          "execution_count": 37
        }
      ]
    },
    {
      "cell_type": "code",
      "source": [
        "res1 = res.repartition(100)"
      ],
      "metadata": {
        "id": "m6ux2YCS4CHS"
      },
      "execution_count": null,
      "outputs": []
    },
    {
      "cell_type": "code",
      "source": [
        "res1.write.mode(\"overwrite\").parquet(\"output\")"
      ],
      "metadata": {
        "id": "eutEaHQ54RS9"
      },
      "execution_count": null,
      "outputs": []
    },
    {
      "cell_type": "code",
      "source": [
        "newres = spark.read.option(\"recursiveFileLookup\", \"true\").parquet(\"output\")"
      ],
      "metadata": {
        "id": "ueRuHCQt904_"
      },
      "execution_count": null,
      "outputs": []
    },
    {
      "cell_type": "code",
      "source": [
        "newres1 = newres.repartition(1)"
      ],
      "metadata": {
        "id": "beQCFwaW-R_j"
      },
      "execution_count": null,
      "outputs": []
    },
    {
      "cell_type": "code",
      "source": [
        "newres1.write.mode(\"overwrite\").parquet(\"output1\")"
      ],
      "metadata": {
        "id": "Z3sKR_2H-WJ-"
      },
      "execution_count": null,
      "outputs": []
    }
  ]
}
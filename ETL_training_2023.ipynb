{
  "nbformat": 4,
  "nbformat_minor": 0,
  "metadata": {
    "colab": {
      "provenance": [],
      "include_colab_link": true
    },
    "kernelspec": {
      "name": "python3",
      "display_name": "Python 3"
    },
    "language_info": {
      "name": "python"
    }
  },
  "cells": [
    {
      "cell_type": "markdown",
      "metadata": {
        "id": "view-in-github",
        "colab_type": "text"
      },
      "source": [
        "<a href=\"https://colab.research.google.com/github/msdevanms/pyspark_training/blob/main/ETL_training_2023.ipynb\" target=\"_parent\"><img src=\"https://colab.research.google.com/assets/colab-badge.svg\" alt=\"Open In Colab\"/></a>"
      ]
    },
    {
      "cell_type": "markdown",
      "source": [
        "# Initial Setup - Spark Installation"
      ],
      "metadata": {
        "id": "fWKUreoV-UwR"
      }
    },
    {
      "cell_type": "code",
      "source": [
        "!pip install pyspark"
      ],
      "metadata": {
        "colab": {
          "base_uri": "https://localhost:8080/"
        },
        "id": "waElCxaVYZS1",
        "outputId": "cd44e233-09f3-4a0e-ec3e-3731d2b9b733"
      },
      "execution_count": 122,
      "outputs": [
        {
          "output_type": "stream",
          "name": "stdout",
          "text": [
            "Requirement already satisfied: pyspark in /usr/local/lib/python3.10/dist-packages (3.5.0)\n",
            "Requirement already satisfied: py4j==0.10.9.7 in /usr/local/lib/python3.10/dist-packages (from pyspark) (0.10.9.7)\n"
          ]
        }
      ]
    },
    {
      "cell_type": "code",
      "execution_count": 123,
      "metadata": {
        "id": "oNOtAOvaOLuP"
      },
      "outputs": [],
      "source": [
        "# Create SparkSession and sparkcontext\n",
        "from pyspark.sql import SparkSession\n",
        "spark = SparkSession.builder\\\n",
        "                    .master(\"local\")\\\n",
        "                    .appName('Firstprogram')\\\n",
        "                    .getOrCreate()\n",
        "sc=spark.sparkContext"
      ]
    },
    {
      "cell_type": "markdown",
      "source": [
        "# Load CSV data"
      ],
      "metadata": {
        "id": "E6Yt0GbQ-iGa"
      }
    },
    {
      "cell_type": "code",
      "source": [
        "mydataframe = spark.read.format(\"csv\").option(\"header\",\"true\").load(\"/content/sample_data/data_descriptive.csv\")"
      ],
      "metadata": {
        "id": "Mg-N_adSQzly"
      },
      "execution_count": 69,
      "outputs": []
    },
    {
      "cell_type": "code",
      "source": [
        "mydataframe.show()"
      ],
      "metadata": {
        "colab": {
          "base_uri": "https://localhost:8080/"
        },
        "id": "B0fOi1zlRWqc",
        "outputId": "15e47901-df9d-423a-b107-db32c61383b5"
      },
      "execution_count": 70,
      "outputs": [
        {
          "output_type": "stream",
          "name": "stdout",
          "text": [
            "+---+----------+----------+------+---------------+--------------------+---------+----------+-----------+\n",
            "| id|first_name| last_name|gender|           City|            JobTitle|   Salary|  Latitude|  Longitude|\n",
            "+---+----------+----------+------+---------------+--------------------+---------+----------+-----------+\n",
            "|  1|   Melinde| Shilburne|Female|      Nowa Ruda| Assistant Professor|$57438.18|50.5774075| 16.4967184|\n",
            "|  2|  Kimberly|Von Welden|Female|         Bulgan|       Programmer II|$62846.60|48.8231572|103.5218199|\n",
            "|  3|    Alvera|  Di Boldi|Female|           NULL|                NULL|$57576.52|39.9947462|116.3397725|\n",
            "|  4|   Shannon| O'Griffin|  Male|  Divnomorskoye|Budget/Accounting...|$61489.23|44.5047212| 38.1300171|\n",
            "|  5|  Sherwood|   Macieja|  Male|      Mytishchi|            VP Sales|$63863.09|      NULL| 37.6489954|\n",
            "|  6|     Maris|      Folk|Female|Kinsealy-Drinan|      Civil Engineer|$30101.16|53.4266145| -6.1644997|\n",
            "|  7|     Masha|    Divers|Female|         Dachun|                NULL|$25090.87| 24.879416| 118.930111|\n",
            "|  8|   Goddart|     Flear|  Male|      Trélissac|Desktop Support T...|$46116.36|45.1905186|  0.7423124|\n",
            "|  9|      Roth|O'Cannavan|  Male|         Heitan|VP Product Manage...|$73697.10| 32.027934| 106.657113|\n",
            "| 10|      Bran|   Trahear|  Male|       Arbeláez|Mechanical System...|$68098.42|  4.272793| -74.416014|\n",
            "| 10|      Bran|   Trahear|  Male|       Arbeláez|Mechanical System...|$68098.42|  4.272793| -74.416014|\n",
            "| 11|    Kylynn|   Lockart|Female|       El Cardo|Nuclear Power Eng...|$13604.63|     -5.85|-79.8833329|\n",
            "| 12|       Rey|    Meharg|Female|    Wangqingtuo|Systems Administr...|$73423.70| 39.172378| 116.931607|\n",
            "| 13|      Kerr|    Braden|  Male|      Sułkowice|Compensation Analyst|$33432.99|49.8151822| 19.3771749|\n",
            "| 14|    Mickie| Whanstall|  Male|    Springfield|Assistant Media P...|$50838.53|42.1014803|-72.5766759|\n",
            "| 15|    Kaspar|     Pally|  Male|         Chrást|  Analyst Programmer|$40163.03|49.7923299| 13.4915324|\n",
            "| 16|    Norbie|    Gwyllt|  Male|         Xijiao|              Editor|$32492.73|43.4945737|  5.8978018|\n",
            "| 17|    Claude|    Briant|Female|      Mieścisko|Research Assistan...|$51862.48|52.7441662| 17.3278637|\n",
            "| 18|     Thain|    Habbon|  Male| Foros do Trapo|     Design Engineer|$42135.67| 38.696249| -8.7098337|\n",
            "| 19|  Tiffanie|  Pattison|Female|    Jabungsisir|Senior Financial ...|$91925.08|-7.7232567|113.4686802|\n",
            "+---+----------+----------+------+---------------+--------------------+---------+----------+-----------+\n",
            "only showing top 20 rows\n",
            "\n"
          ]
        }
      ]
    },
    {
      "cell_type": "markdown",
      "source": [
        "# Inspect Data"
      ],
      "metadata": {
        "id": "jATsjs-O-pKy"
      }
    },
    {
      "cell_type": "code",
      "source": [
        "mydataframe.count()"
      ],
      "metadata": {
        "colab": {
          "base_uri": "https://localhost:8080/"
        },
        "id": "VUOUMCVs_s-J",
        "outputId": "5f3ac493-7e6c-4fb0-8f0c-bf66c79d041e"
      },
      "execution_count": 76,
      "outputs": [
        {
          "output_type": "execute_result",
          "data": {
            "text/plain": [
              "1001"
            ]
          },
          "metadata": {},
          "execution_count": 76
        }
      ]
    },
    {
      "cell_type": "code",
      "source": [
        "mydataframe.printSchema()"
      ],
      "metadata": {
        "colab": {
          "base_uri": "https://localhost:8080/"
        },
        "id": "ecmSvTsp_xGJ",
        "outputId": "18e583b6-6eed-4d9a-8ae9-7bd3dbea5564"
      },
      "execution_count": 72,
      "outputs": [
        {
          "output_type": "stream",
          "name": "stdout",
          "text": [
            "root\n",
            " |-- id: string (nullable = true)\n",
            " |-- first_name: string (nullable = true)\n",
            " |-- last_name: string (nullable = true)\n",
            " |-- gender: string (nullable = true)\n",
            " |-- City: string (nullable = true)\n",
            " |-- JobTitle: string (nullable = true)\n",
            " |-- Salary: string (nullable = true)\n",
            " |-- Latitude: string (nullable = true)\n",
            " |-- Longitude: string (nullable = true)\n",
            "\n"
          ]
        }
      ]
    },
    {
      "cell_type": "code",
      "source": [
        "mydataframe.describe().show()"
      ],
      "metadata": {
        "id": "SyXNMFr1Rkmk",
        "colab": {
          "base_uri": "https://localhost:8080/"
        },
        "outputId": "64bc93f1-85d4-4a7d-d0a2-230d95224a3a"
      },
      "execution_count": 73,
      "outputs": [
        {
          "output_type": "stream",
          "name": "stdout",
          "text": [
            "+-------+-----------------+----------+---------+------+-------------------+-------------------+---------+------------------+-----------------+\n",
            "|summary|               id|first_name|last_name|gender|               City|           JobTitle|   Salary|          Latitude|        Longitude|\n",
            "+-------+-----------------+----------+---------+------+-------------------+-------------------+---------+------------------+-----------------+\n",
            "|  count|             1000|      1000|     1000|  1000|                999|                998|     1000|               999|             1000|\n",
            "|   mean|            500.5|      NULL|     NULL|  NULL|               NULL|               NULL|     NULL|25.431517242342352|43.33756461450002|\n",
            "| stddev|288.8194360957494|      NULL|     NULL|  NULL|               NULL|               NULL|     NULL|24.579082548690913|69.42064539970089|\n",
            "|    min|                1|   Abagail|    Abbay|Female|             Abéché|Account Coordinator|$10101.92|        -0.6256517|       -0.4889547|\n",
            "|    max|              999|    Zulema| de Marco|  Male|‘Aşīrah al Qiblīyah|   Web Developer IV|$99948.28|         9.9533828|       99.9590822|\n",
            "+-------+-----------------+----------+---------+------+-------------------+-------------------+---------+------------------+-----------------+\n",
            "\n"
          ]
        }
      ]
    },
    {
      "cell_type": "markdown",
      "source": [
        "# Setting Schema"
      ],
      "metadata": {
        "id": "Ra9LTImPCLo6"
      }
    },
    {
      "cell_type": "code",
      "source": [
        "# Setting schema and importing:\n",
        "from pyspark.sql.types import *\n",
        "myschema = StructType([\n",
        "      StructField('id', IntegerType()),\n",
        "      StructField('first_name', StringType()),\n",
        "      StructField('last_name', StringType()),\n",
        "      StructField('gender', StringType()),\n",
        "      StructField('City', StringType()),\n",
        "      StructField('JobTitle', StringType()),\n",
        "      StructField('Salary', StringType()),\n",
        "      StructField('Latitude', StringType()),\n",
        "      StructField('Longitude', FloatType())\n",
        "])\n",
        "df = spark.read.csv(\"/content/sample_data/data_descriptive.csv\", header=True, schema = myschema)\n",
        "df.show()"
      ],
      "metadata": {
        "colab": {
          "base_uri": "https://localhost:8080/"
        },
        "id": "Qebz90vNByIB",
        "outputId": "1a584324-9575-4ec0-dd5f-20dcf74793aa"
      },
      "execution_count": 83,
      "outputs": [
        {
          "output_type": "stream",
          "name": "stdout",
          "text": [
            "+---+----------+----------+------+---------------+--------------------+---------+----------+----------+\n",
            "| id|first_name| last_name|gender|           City|            JobTitle|   Salary|  Latitude| Longitude|\n",
            "+---+----------+----------+------+---------------+--------------------+---------+----------+----------+\n",
            "|  1|   Melinde| Shilburne|Female|      Nowa Ruda| Assistant Professor|$57438.18|50.5774075| 16.496717|\n",
            "|  2|  Kimberly|Von Welden|Female|         Bulgan|       Programmer II|$62846.60|48.8231572| 103.52182|\n",
            "|  3|    Alvera|  Di Boldi|Female|           NULL|                NULL|$57576.52|39.9947462|116.339775|\n",
            "|  4|   Shannon| O'Griffin|  Male|  Divnomorskoye|Budget/Accounting...|$61489.23|44.5047212| 38.130016|\n",
            "|  5|  Sherwood|   Macieja|  Male|      Mytishchi|            VP Sales|$63863.09|      NULL| 37.648994|\n",
            "|  6|     Maris|      Folk|Female|Kinsealy-Drinan|      Civil Engineer|$30101.16|53.4266145|-6.1644998|\n",
            "|  7|     Masha|    Divers|Female|         Dachun|                NULL|$25090.87| 24.879416|118.930115|\n",
            "|  8|   Goddart|     Flear|  Male|      Trélissac|Desktop Support T...|$46116.36|45.1905186| 0.7423124|\n",
            "|  9|      Roth|O'Cannavan|  Male|         Heitan|VP Product Manage...|$73697.10| 32.027934| 106.65711|\n",
            "| 10|      Bran|   Trahear|  Male|       Arbeláez|Mechanical System...|$68098.42|  4.272793|-74.416016|\n",
            "| 10|      Bran|   Trahear|  Male|       Arbeláez|Mechanical System...|$68098.42|  4.272793|-74.416016|\n",
            "| 11|    Kylynn|   Lockart|Female|       El Cardo|Nuclear Power Eng...|$13604.63|     -5.85| -79.88333|\n",
            "| 12|       Rey|    Meharg|Female|    Wangqingtuo|Systems Administr...|$73423.70| 39.172378| 116.93161|\n",
            "| 13|      Kerr|    Braden|  Male|      Sułkowice|Compensation Analyst|$33432.99|49.8151822| 19.377174|\n",
            "| 14|    Mickie| Whanstall|  Male|    Springfield|Assistant Media P...|$50838.53|42.1014803|-72.576675|\n",
            "| 15|    Kaspar|     Pally|  Male|         Chrást|  Analyst Programmer|$40163.03|49.7923299| 13.491532|\n",
            "| 16|    Norbie|    Gwyllt|  Male|         Xijiao|              Editor|$32492.73|43.4945737|  5.897802|\n",
            "| 17|    Claude|    Briant|Female|      Mieścisko|Research Assistan...|$51862.48|52.7441662| 17.327864|\n",
            "| 18|     Thain|    Habbon|  Male| Foros do Trapo|     Design Engineer|$42135.67| 38.696249| -8.709834|\n",
            "| 19|  Tiffanie|  Pattison|Female|    Jabungsisir|Senior Financial ...|$91925.08|-7.7232567| 113.46868|\n",
            "+---+----------+----------+------+---------------+--------------------+---------+----------+----------+\n",
            "only showing top 20 rows\n",
            "\n"
          ]
        }
      ]
    },
    {
      "cell_type": "code",
      "source": [
        "df.describe().show()"
      ],
      "metadata": {
        "colab": {
          "base_uri": "https://localhost:8080/"
        },
        "id": "2oZgebX1CUsx",
        "outputId": "e73f015f-45fe-4493-c17f-6f848851f168"
      },
      "execution_count": 84,
      "outputs": [
        {
          "output_type": "stream",
          "name": "stdout",
          "text": [
            "+-------+------------------+----------+---------+------+-------------------+-------------------+---------+------------------+-----------------+\n",
            "|summary|                id|first_name|last_name|gender|               City|           JobTitle|   Salary|          Latitude|        Longitude|\n",
            "+-------+------------------+----------+---------+------+-------------------+-------------------+---------+------------------+-----------------+\n",
            "|  count|              1001|      1001|     1001|  1001|               1000|                999|     1001|              1000|             1001|\n",
            "|   mean|   500.00999000999|      NULL|     NULL|  NULL|               NULL|               NULL|     NULL|25.410358518099997|43.21992865958057|\n",
            "| stddev|289.09098896385507|      NULL|     NULL|  NULL|               NULL|               NULL|     NULL|24.575887664781412|69.48567356538793|\n",
            "|    min|                 1|   Abagail|    Abbay|Female|             Abéché|Account Coordinator|$10101.92|        -0.6256517|       -123.04196|\n",
            "|    max|              1000|    Zulema| de Marco|  Male|‘Aşīrah al Qiblīyah|   Web Developer IV|$99948.28|         9.9533828|        175.28227|\n",
            "+-------+------------------+----------+---------+------+-------------------+-------------------+---------+------------------+-----------------+\n",
            "\n"
          ]
        }
      ]
    },
    {
      "cell_type": "markdown",
      "source": [
        "# Data Cleansing - Null and Duplicate removal"
      ],
      "metadata": {
        "id": "_OApaHC8-xnR"
      }
    },
    {
      "cell_type": "code",
      "source": [
        "no_duplicate_df = df.dropDuplicates()"
      ],
      "metadata": {
        "id": "Tta8IO-59Qsk"
      },
      "execution_count": 86,
      "outputs": []
    },
    {
      "cell_type": "code",
      "source": [
        "no_duplicate_df.count()"
      ],
      "metadata": {
        "colab": {
          "base_uri": "https://localhost:8080/"
        },
        "id": "qUzcdM9SBKbT",
        "outputId": "1a546e5a-1ef6-4afc-9bdf-cfe4b57d7009"
      },
      "execution_count": 87,
      "outputs": [
        {
          "output_type": "execute_result",
          "data": {
            "text/plain": [
              "1000"
            ]
          },
          "metadata": {},
          "execution_count": 87
        }
      ]
    },
    {
      "cell_type": "code",
      "source": [
        "no_duplicate_df.sort(no_duplicate_df.id).show()"
      ],
      "metadata": {
        "colab": {
          "base_uri": "https://localhost:8080/"
        },
        "id": "mJXGMpB79Xc7",
        "outputId": "7b898fa2-de91-4914-bdc5-d138f16361d6"
      },
      "execution_count": 93,
      "outputs": [
        {
          "output_type": "stream",
          "name": "stdout",
          "text": [
            "+---+----------+----------+------+---------------+--------------------+---------+----------+----------+\n",
            "| id|first_name| last_name|gender|           City|            JobTitle|   Salary|  Latitude| Longitude|\n",
            "+---+----------+----------+------+---------------+--------------------+---------+----------+----------+\n",
            "|  1|   Melinde| Shilburne|Female|      Nowa Ruda| Assistant Professor|$57438.18|50.5774075| 16.496717|\n",
            "|  2|  Kimberly|Von Welden|Female|         Bulgan|       Programmer II|$62846.60|48.8231572| 103.52182|\n",
            "|  3|    Alvera|  Di Boldi|Female|           NULL|                NULL|$57576.52|39.9947462|116.339775|\n",
            "|  4|   Shannon| O'Griffin|  Male|  Divnomorskoye|Budget/Accounting...|$61489.23|44.5047212| 38.130016|\n",
            "|  5|  Sherwood|   Macieja|  Male|      Mytishchi|            VP Sales|$63863.09|      NULL| 37.648994|\n",
            "|  6|     Maris|      Folk|Female|Kinsealy-Drinan|      Civil Engineer|$30101.16|53.4266145|-6.1644998|\n",
            "|  7|     Masha|    Divers|Female|         Dachun|                NULL|$25090.87| 24.879416|118.930115|\n",
            "|  8|   Goddart|     Flear|  Male|      Trélissac|Desktop Support T...|$46116.36|45.1905186| 0.7423124|\n",
            "|  9|      Roth|O'Cannavan|  Male|         Heitan|VP Product Manage...|$73697.10| 32.027934| 106.65711|\n",
            "| 10|      Bran|   Trahear|  Male|       Arbeláez|Mechanical System...|$68098.42|  4.272793|-74.416016|\n",
            "| 11|    Kylynn|   Lockart|Female|       El Cardo|Nuclear Power Eng...|$13604.63|     -5.85| -79.88333|\n",
            "| 12|       Rey|    Meharg|Female|    Wangqingtuo|Systems Administr...|$73423.70| 39.172378| 116.93161|\n",
            "| 13|      Kerr|    Braden|  Male|      Sułkowice|Compensation Analyst|$33432.99|49.8151822| 19.377174|\n",
            "| 14|    Mickie| Whanstall|  Male|    Springfield|Assistant Media P...|$50838.53|42.1014803|-72.576675|\n",
            "| 15|    Kaspar|     Pally|  Male|         Chrást|  Analyst Programmer|$40163.03|49.7923299| 13.491532|\n",
            "| 16|    Norbie|    Gwyllt|  Male|         Xijiao|              Editor|$32492.73|43.4945737|  5.897802|\n",
            "| 17|    Claude|    Briant|Female|      Mieścisko|Research Assistan...|$51862.48|52.7441662| 17.327864|\n",
            "| 18|     Thain|    Habbon|  Male| Foros do Trapo|     Design Engineer|$42135.67| 38.696249| -8.709834|\n",
            "| 19|  Tiffanie|  Pattison|Female|    Jabungsisir|Senior Financial ...|$91925.08|-7.7232567| 113.46868|\n",
            "| 20|    Ettore|  Gerriets|  Male|          Pedra| Staff Accountant IV|$73921.33|40.7172049|-8.3625145|\n",
            "+---+----------+----------+------+---------------+--------------------+---------+----------+----------+\n",
            "only showing top 20 rows\n",
            "\n"
          ]
        }
      ]
    },
    {
      "cell_type": "code",
      "source": [
        "# Replace null for 'Unknown':\n",
        "from pyspark.sql.functions import *\n",
        "no_null_df = no_duplicate_df.withColumn(\"clean_city\",when(no_duplicate_df.City.isNull(),'Unknown').otherwise(no_duplicate_df.City))"
      ],
      "metadata": {
        "id": "MtcbNDQj8FYD"
      },
      "execution_count": 95,
      "outputs": []
    },
    {
      "cell_type": "code",
      "source": [
        "no_null_df.show(truncate=False)"
      ],
      "metadata": {
        "colab": {
          "base_uri": "https://localhost:8080/"
        },
        "id": "o9glvQCAY-Qo",
        "outputId": "1238d844-0877-43d3-f967-e9751c657bb8"
      },
      "execution_count": 96,
      "outputs": [
        {
          "output_type": "stream",
          "name": "stdout",
          "text": [
            "+---+----------+----------+------+------------------+-----------------------------+---------+-----------+----------+------------------+\n",
            "|id |first_name|last_name |gender|City              |JobTitle                     |Salary   |Latitude   |Longitude |clean_city        |\n",
            "+---+----------+----------+------+------------------+-----------------------------+---------+-----------+----------+------------------+\n",
            "|159|Georgianne|Henriques |Female|Jinsha            |Environmental Specialist     |$63954.52|30.679359  |104.011665|Jinsha            |\n",
            "|215|Angel     |Robjant   |Male  |Bambous Virieux   |Occupational Therapist       |$96856.73|-20.3438619|57.763683 |Bambous Virieux   |\n",
            "|377|Noach     |Golling   |Male  |Yuanqiao          |Executive Secretary          |$72247.30|32.5639    |120.39677 |Yuanqiao          |\n",
            "|525|Terry     |Layton    |Female|San Pedro Masahuat|Dental Hygienist             |$10808.16|13.5432995 |-89.03824 |San Pedro Masahuat|\n",
            "|833|Damara    |Beaford   |Female|Połomia           |Environmental Specialist     |$10616.44|49.9890993 |18.569973 |Połomia           |\n",
            "|172|Marita    |Whyborn   |Female|Sofo-Birnin-Gwari |Biostatistician II           |$45680.97|11.01088   |6.798413  |Sofo-Birnin-Gwari |\n",
            "|485|Carola    |Himsworth |Female|Krasnomayskiy     |Senior Quality Engineer      |$54941.78|57.6194    |34.40988  |Krasnomayskiy     |\n",
            "|562|Dulci     |L'Amie    |Female|Nan’ao            |Mechanical Systems Engineer  |$95218.39|23.421724  |117.02338 |Nan’ao            |\n",
            "|88 |Carole    |Gavan     |Female|Rajapeni          |Account Coordinator          |$27026.70|-7.2841    |108.2148  |Rajapeni          |\n",
            "|161|Carlynn   |Freiburger|Female|Kavýli            |Programmer Analyst III       |$63792.21|41.5622714 |26.51264  |Kavýli            |\n",
            "|371|Petronia  |Trowill   |Female|Banjar Yehsatang  |Health Coach II              |$28327.81|-8.3932    |114.8028  |Banjar Yehsatang  |\n",
            "|418|Nils      |Perago    |Male  |Núi Sập           |Occupational Therapist       |$36160.91|10.2581682 |105.27215 |Núi Sập           |\n",
            "|641|Gannon    |Heinreich |Male  |Gualmatán         |Analog Circuit Design manager|$88032.41|0.919645   |-77.56714 |Gualmatán         |\n",
            "|825|Abbye     |MacAndreis|Female|Chandmanĭ         |Accounting Assistant I       |$87792.30|45.3369621 |97.96857  |Chandmanĭ         |\n",
            "|835|Inness    |Double    |Male  |Kultayevo         |Biostatistician III          |$25707.71|57.8948    |55.9378   |Kultayevo         |\n",
            "|319|Clementius|McGinn    |Male  |Tarauacá          |Associate Professor          |$15800.06|-8.2132323 |-71.38244 |Tarauacá          |\n",
            "|494|Danni     |Bonellie  |Female|Brokopondo        |Legal Assistant              |$48210.95|4.7524091  |-55.02729 |Brokopondo        |\n",
            "|950|Tremayne  |Thickett  |Male  |Nalinggou         |Software Engineer III        |$65765.49|40.99849   |111.1617  |Nalinggou         |\n",
            "|63 |Antone    |Erie      |Male  |Bilohirs’k        |Help Desk Operator           |$51271.99|45.0577954 |34.605095 |Bilohirs’k        |\n",
            "|139|Laetitia  |Gasking   |Female|Cuogang           |Registered Nurse             |$10908.22|32.8279425 |13.381834 |Cuogang           |\n",
            "+---+----------+----------+------+------------------+-----------------------------+---------+-----------+----------+------------------+\n",
            "only showing top 20 rows\n",
            "\n"
          ]
        }
      ]
    },
    {
      "cell_type": "code",
      "source": [
        "no_null_df2 = no_null_df.filter(no_null_df.JobTitle.isNotNull())"
      ],
      "metadata": {
        "id": "i56kKK0haSEr"
      },
      "execution_count": 97,
      "outputs": []
    },
    {
      "cell_type": "code",
      "source": [
        "no_null_df3 = no_null_df.filter(no_null_df.JobTitle.isNull())"
      ],
      "metadata": {
        "id": "Zy8iD-CYD4hR"
      },
      "execution_count": 100,
      "outputs": []
    },
    {
      "cell_type": "code",
      "source": [
        "no_null_df3.show()"
      ],
      "metadata": {
        "colab": {
          "base_uri": "https://localhost:8080/"
        },
        "id": "IetE2GncD-DR",
        "outputId": "7ffae312-3232-4d31-d993-32b63422772a"
      },
      "execution_count": 101,
      "outputs": [
        {
          "output_type": "stream",
          "name": "stdout",
          "text": [
            "+---+----------+---------+------+------+--------+---------+----------+----------+----------+\n",
            "| id|first_name|last_name|gender|  City|JobTitle|   Salary|  Latitude| Longitude|clean_city|\n",
            "+---+----------+---------+------+------+--------+---------+----------+----------+----------+\n",
            "|  7|     Masha|   Divers|Female|Dachun|    NULL|$25090.87| 24.879416|118.930115|    Dachun|\n",
            "|  3|    Alvera| Di Boldi|Female|  NULL|    NULL|$57576.52|39.9947462|116.339775|   Unknown|\n",
            "+---+----------+---------+------+------+--------+---------+----------+----------+----------+\n",
            "\n"
          ]
        }
      ]
    },
    {
      "cell_type": "code",
      "source": [
        "no_null_df2.count()"
      ],
      "metadata": {
        "colab": {
          "base_uri": "https://localhost:8080/"
        },
        "id": "MPEckJxXDvuL",
        "outputId": "052a0cb9-36c8-4edd-c582-0f49730fa3e5"
      },
      "execution_count": 102,
      "outputs": [
        {
          "output_type": "execute_result",
          "data": {
            "text/plain": [
              "998"
            ]
          },
          "metadata": {},
          "execution_count": 102
        }
      ]
    },
    {
      "cell_type": "code",
      "source": [
        "no_null_df2.show(truncate=False)"
      ],
      "metadata": {
        "colab": {
          "base_uri": "https://localhost:8080/"
        },
        "id": "5yMryfWh6anT",
        "outputId": "498854ff-b8bc-405d-aa16-31d2ff573c6f"
      },
      "execution_count": 98,
      "outputs": [
        {
          "output_type": "stream",
          "name": "stdout",
          "text": [
            "+---+----------+----------+------+------------------+-----------------------------+---------+-----------+----------+------------------+\n",
            "|id |first_name|last_name |gender|City              |JobTitle                     |Salary   |Latitude   |Longitude |clean_city        |\n",
            "+---+----------+----------+------+------------------+-----------------------------+---------+-----------+----------+------------------+\n",
            "|159|Georgianne|Henriques |Female|Jinsha            |Environmental Specialist     |$63954.52|30.679359  |104.011665|Jinsha            |\n",
            "|215|Angel     |Robjant   |Male  |Bambous Virieux   |Occupational Therapist       |$96856.73|-20.3438619|57.763683 |Bambous Virieux   |\n",
            "|377|Noach     |Golling   |Male  |Yuanqiao          |Executive Secretary          |$72247.30|32.5639    |120.39677 |Yuanqiao          |\n",
            "|525|Terry     |Layton    |Female|San Pedro Masahuat|Dental Hygienist             |$10808.16|13.5432995 |-89.03824 |San Pedro Masahuat|\n",
            "|833|Damara    |Beaford   |Female|Połomia           |Environmental Specialist     |$10616.44|49.9890993 |18.569973 |Połomia           |\n",
            "|172|Marita    |Whyborn   |Female|Sofo-Birnin-Gwari |Biostatistician II           |$45680.97|11.01088   |6.798413  |Sofo-Birnin-Gwari |\n",
            "|485|Carola    |Himsworth |Female|Krasnomayskiy     |Senior Quality Engineer      |$54941.78|57.6194    |34.40988  |Krasnomayskiy     |\n",
            "|562|Dulci     |L'Amie    |Female|Nan’ao            |Mechanical Systems Engineer  |$95218.39|23.421724  |117.02338 |Nan’ao            |\n",
            "|88 |Carole    |Gavan     |Female|Rajapeni          |Account Coordinator          |$27026.70|-7.2841    |108.2148  |Rajapeni          |\n",
            "|161|Carlynn   |Freiburger|Female|Kavýli            |Programmer Analyst III       |$63792.21|41.5622714 |26.51264  |Kavýli            |\n",
            "|371|Petronia  |Trowill   |Female|Banjar Yehsatang  |Health Coach II              |$28327.81|-8.3932    |114.8028  |Banjar Yehsatang  |\n",
            "|418|Nils      |Perago    |Male  |Núi Sập           |Occupational Therapist       |$36160.91|10.2581682 |105.27215 |Núi Sập           |\n",
            "|641|Gannon    |Heinreich |Male  |Gualmatán         |Analog Circuit Design manager|$88032.41|0.919645   |-77.56714 |Gualmatán         |\n",
            "|825|Abbye     |MacAndreis|Female|Chandmanĭ         |Accounting Assistant I       |$87792.30|45.3369621 |97.96857  |Chandmanĭ         |\n",
            "|835|Inness    |Double    |Male  |Kultayevo         |Biostatistician III          |$25707.71|57.8948    |55.9378   |Kultayevo         |\n",
            "|319|Clementius|McGinn    |Male  |Tarauacá          |Associate Professor          |$15800.06|-8.2132323 |-71.38244 |Tarauacá          |\n",
            "|494|Danni     |Bonellie  |Female|Brokopondo        |Legal Assistant              |$48210.95|4.7524091  |-55.02729 |Brokopondo        |\n",
            "|950|Tremayne  |Thickett  |Male  |Nalinggou         |Software Engineer III        |$65765.49|40.99849   |111.1617  |Nalinggou         |\n",
            "|63 |Antone    |Erie      |Male  |Bilohirs’k        |Help Desk Operator           |$51271.99|45.0577954 |34.605095 |Bilohirs’k        |\n",
            "|139|Laetitia  |Gasking   |Female|Cuogang           |Registered Nurse             |$10908.22|32.8279425 |13.381834 |Cuogang           |\n",
            "+---+----------+----------+------+------------------+-----------------------------+---------+-----------+----------+------------------+\n",
            "only showing top 20 rows\n",
            "\n"
          ]
        }
      ]
    },
    {
      "cell_type": "code",
      "source": [
        "with_column_df = no_null_df2.withColumn('clean_salary', no_null_df2.Salary.substr(2,100).cast('float'))"
      ],
      "metadata": {
        "id": "er2qDsVOaTHL"
      },
      "execution_count": 103,
      "outputs": []
    },
    {
      "cell_type": "code",
      "source": [
        "# take(1)[0][0]: take 1st element of df row, column = [0,0]\n",
        "mean = with_column_df.groupBy().avg('clean_salary').take(1)[0][0]"
      ],
      "metadata": {
        "id": "C-jiaGR2aTiL"
      },
      "execution_count": 105,
      "outputs": []
    },
    {
      "cell_type": "code",
      "source": [
        "mean"
      ],
      "metadata": {
        "colab": {
          "base_uri": "https://localhost:8080/"
        },
        "id": "D-c_tekfc4Bx",
        "outputId": "29172612-88ec-457e-da90-6c415b73c01a"
      },
      "execution_count": 106,
      "outputs": [
        {
          "output_type": "execute_result",
          "data": {
            "text/plain": [
              "55516.32088199837"
            ]
          },
          "metadata": {},
          "execution_count": 106
        }
      ]
    },
    {
      "cell_type": "code",
      "source": [
        "with_column_df.describe().select(\"summary\",\"Salary\", \"clean_salary\").show()"
      ],
      "metadata": {
        "colab": {
          "base_uri": "https://localhost:8080/"
        },
        "id": "_PAVteJrEUaY",
        "outputId": "50cd44d8-d210-4e83-b537-3d5c5d8e2a42"
      },
      "execution_count": 111,
      "outputs": [
        {
          "output_type": "stream",
          "name": "stdout",
          "text": [
            "+-------+---------+------------------+\n",
            "|summary|   Salary|      clean_salary|\n",
            "+-------+---------+------------------+\n",
            "|  count|      998|               998|\n",
            "|   mean|     NULL| 55516.32088199837|\n",
            "| stddev|     NULL|25863.139331851668|\n",
            "|    min|$10101.92|          10101.92|\n",
            "|    max|$99948.28|          99948.28|\n",
            "+-------+---------+------------------+\n",
            "\n"
          ]
        }
      ]
    },
    {
      "cell_type": "code",
      "source": [
        "from pyspark.sql.functions import lit\n",
        "with_column_df2 = with_column_df.withColumn('new_salary', when(with_column_df.clean_salary.isNull(), lit(mean)).otherwise(with_column_df.clean_salary))"
      ],
      "metadata": {
        "id": "XZlXMDy8e-rW"
      },
      "execution_count": 116,
      "outputs": []
    },
    {
      "cell_type": "code",
      "source": [
        "with_column_df2.show()"
      ],
      "metadata": {
        "colab": {
          "base_uri": "https://localhost:8080/"
        },
        "id": "ETipd_dSglbV",
        "outputId": "5cb1a8f3-a17f-418c-f806-be79b1bdfb03"
      },
      "execution_count": 117,
      "outputs": [
        {
          "output_type": "stream",
          "name": "stdout",
          "text": [
            "+---+----------+----------+------+------------------+--------------------+---------+-----------+----------+------------------+------------+----------------+\n",
            "| id|first_name| last_name|gender|              City|            JobTitle|   Salary|   Latitude| Longitude|        clean_city|clean_salary|      new_salary|\n",
            "+---+----------+----------+------+------------------+--------------------+---------+-----------+----------+------------------+------------+----------------+\n",
            "|159|Georgianne| Henriques|Female|            Jinsha|Environmental Spe...|$63954.52|  30.679359|104.011665|            Jinsha|    63954.52|  63954.51953125|\n",
            "|215|     Angel|   Robjant|  Male|   Bambous Virieux|Occupational Ther...|$96856.73|-20.3438619| 57.763683|   Bambous Virieux|    96856.73|   96856.7265625|\n",
            "|377|     Noach|   Golling|  Male|          Yuanqiao| Executive Secretary|$72247.30|    32.5639| 120.39677|          Yuanqiao|     72247.3|    72247.296875|\n",
            "|525|     Terry|    Layton|Female|San Pedro Masahuat|    Dental Hygienist|$10808.16| 13.5432995| -89.03824|San Pedro Masahuat|    10808.16|  10808.16015625|\n",
            "|833|    Damara|   Beaford|Female|           Połomia|Environmental Spe...|$10616.44| 49.9890993| 18.569973|           Połomia|    10616.44|10616.4404296875|\n",
            "|172|    Marita|   Whyborn|Female| Sofo-Birnin-Gwari|  Biostatistician II|$45680.97|   11.01088|  6.798413| Sofo-Birnin-Gwari|    45680.97|     45680.96875|\n",
            "|485|    Carola| Himsworth|Female|     Krasnomayskiy|Senior Quality En...|$54941.78|    57.6194|  34.40988|     Krasnomayskiy|    54941.78|     54941.78125|\n",
            "|562|     Dulci|    L'Amie|Female|            Nan’ao|Mechanical System...|$95218.39|  23.421724| 117.02338|            Nan’ao|    95218.39|    95218.390625|\n",
            "| 88|    Carole|     Gavan|Female|          Rajapeni| Account Coordinator|$27026.70|    -7.2841|  108.2148|          Rajapeni|     27026.7|  27026.69921875|\n",
            "|161|   Carlynn|Freiburger|Female|            Kavýli|Programmer Analys...|$63792.21| 41.5622714|  26.51264|            Kavýli|    63792.21|   63792.2109375|\n",
            "|371|  Petronia|   Trowill|Female|  Banjar Yehsatang|     Health Coach II|$28327.81|    -8.3932|  114.8028|  Banjar Yehsatang|    28327.81| 28327.810546875|\n",
            "|418|      Nils|    Perago|  Male|           Núi Sập|Occupational Ther...|$36160.91| 10.2581682| 105.27215|           Núi Sập|    36160.91|  36160.91015625|\n",
            "|641|    Gannon| Heinreich|  Male|         Gualmatán|Analog Circuit De...|$88032.41|   0.919645| -77.56714|         Gualmatán|    88032.41|     88032.40625|\n",
            "|825|     Abbye|MacAndreis|Female|         Chandmanĭ|Accounting Assist...|$87792.30| 45.3369621|  97.96857|         Chandmanĭ|     87792.3|    87792.296875|\n",
            "|835|    Inness|    Double|  Male|         Kultayevo| Biostatistician III|$25707.71|    57.8948|   55.9378|         Kultayevo|    25707.71|   25707.7109375|\n",
            "|319|Clementius|    McGinn|  Male|          Tarauacá| Associate Professor|$15800.06| -8.2132323| -71.38244|          Tarauacá|    15800.06|15800.0595703125|\n",
            "|494|     Danni|  Bonellie|Female|        Brokopondo|     Legal Assistant|$48210.95|  4.7524091| -55.02729|        Brokopondo|    48210.95|  48210.94921875|\n",
            "|950|  Tremayne|  Thickett|  Male|         Nalinggou|Software Engineer...|$65765.49|   40.99849|  111.1617|         Nalinggou|    65765.49|   65765.4921875|\n",
            "| 63|    Antone|      Erie|  Male|        Bilohirs’k|  Help Desk Operator|$51271.99| 45.0577954| 34.605095|        Bilohirs’k|    51271.99|  51271.98828125|\n",
            "|139|  Laetitia|   Gasking|Female|           Cuogang|    Registered Nurse|$10908.22| 32.8279425| 13.381834|           Cuogang|    10908.22|10908.2197265625|\n",
            "+---+----------+----------+------+------------------+--------------------+---------+-----------+----------+------------------+------------+----------------+\n",
            "only showing top 20 rows\n",
            "\n"
          ]
        }
      ]
    },
    {
      "cell_type": "code",
      "source": [
        "latitudes = with_column_df2.select(\"latitude\")"
      ],
      "metadata": {
        "id": "F2w-4fYJgvG7"
      },
      "execution_count": 118,
      "outputs": []
    },
    {
      "cell_type": "code",
      "source": [
        "latitudes.show()"
      ],
      "metadata": {
        "colab": {
          "base_uri": "https://localhost:8080/"
        },
        "id": "zobte73yvKhi",
        "outputId": "151263d6-5306-4785-9757-5a30956213bf"
      },
      "execution_count": 119,
      "outputs": [
        {
          "output_type": "stream",
          "name": "stdout",
          "text": [
            "+-----------+\n",
            "|   latitude|\n",
            "+-----------+\n",
            "|  30.679359|\n",
            "|-20.3438619|\n",
            "|    32.5639|\n",
            "| 13.5432995|\n",
            "| 49.9890993|\n",
            "|   11.01088|\n",
            "|    57.6194|\n",
            "|  23.421724|\n",
            "|    -7.2841|\n",
            "| 41.5622714|\n",
            "|    -8.3932|\n",
            "| 10.2581682|\n",
            "|   0.919645|\n",
            "| 45.3369621|\n",
            "|    57.8948|\n",
            "| -8.2132323|\n",
            "|  4.7524091|\n",
            "|   40.99849|\n",
            "| 45.0577954|\n",
            "| 32.8279425|\n",
            "+-----------+\n",
            "only showing top 20 rows\n",
            "\n"
          ]
        }
      ]
    },
    {
      "cell_type": "code",
      "source": [
        "latitudes = latitudes.filter(latitudes.latitude.isNotNull())"
      ],
      "metadata": {
        "id": "rwml4PLQvXaZ"
      },
      "execution_count": 120,
      "outputs": []
    },
    {
      "cell_type": "code",
      "source": [
        "latitudes.show()"
      ],
      "metadata": {
        "colab": {
          "base_uri": "https://localhost:8080/"
        },
        "id": "5P3hAqUaKQoX",
        "outputId": "6eaa441f-7ac8-453a-a4bd-954aaf32f6ea"
      },
      "execution_count": 121,
      "outputs": [
        {
          "output_type": "stream",
          "name": "stdout",
          "text": [
            "+-----------+\n",
            "|   latitude|\n",
            "+-----------+\n",
            "|  30.679359|\n",
            "|-20.3438619|\n",
            "|    32.5639|\n",
            "| 13.5432995|\n",
            "| 49.9890993|\n",
            "|   11.01088|\n",
            "|    57.6194|\n",
            "|  23.421724|\n",
            "|    -7.2841|\n",
            "| 41.5622714|\n",
            "|    -8.3932|\n",
            "| 10.2581682|\n",
            "|   0.919645|\n",
            "| 45.3369621|\n",
            "|    57.8948|\n",
            "| -8.2132323|\n",
            "|  4.7524091|\n",
            "|   40.99849|\n",
            "| 45.0577954|\n",
            "| 32.8279425|\n",
            "+-----------+\n",
            "only showing top 20 rows\n",
            "\n"
          ]
        }
      ]
    },
    {
      "cell_type": "code",
      "source": [
        "# convert to float:\n",
        "latitudes = latitudes.withColumn('latitude2', latitudes.latitude.cast('float')).select('latitude2')"
      ],
      "metadata": {
        "id": "G-2n2hF8KgtI"
      },
      "execution_count": 19,
      "outputs": []
    },
    {
      "cell_type": "code",
      "source": [
        "latitudes.show()"
      ],
      "metadata": {
        "colab": {
          "base_uri": "https://localhost:8080/"
        },
        "id": "oEuyHyUnKzdU",
        "outputId": "001ab549-5ba6-42dc-e363-ad650541e2a3"
      },
      "execution_count": 20,
      "outputs": [
        {
          "output_type": "stream",
          "name": "stdout",
          "text": [
            "+----------+\n",
            "| latitude2|\n",
            "+----------+\n",
            "| 50.577408|\n",
            "|  48.82316|\n",
            "| 44.504723|\n",
            "| 53.426613|\n",
            "| 45.190517|\n",
            "| 32.027935|\n",
            "|  4.272793|\n",
            "|     -5.85|\n",
            "|  39.17238|\n",
            "|  49.81518|\n",
            "|  42.10148|\n",
            "|  49.79233|\n",
            "| 43.494576|\n",
            "| 52.744167|\n",
            "| 38.696247|\n",
            "|-7.7232566|\n",
            "| 40.717205|\n",
            "|  49.16291|\n",
            "| 40.757683|\n",
            "|  48.49028|\n",
            "+----------+\n",
            "only showing top 20 rows\n",
            "\n"
          ]
        }
      ]
    },
    {
      "cell_type": "code",
      "source": [
        "import numpy as np\n",
        "median = np.median(latitudes.collect())"
      ],
      "metadata": {
        "id": "njvbNOFIK8ft"
      },
      "execution_count": null,
      "outputs": []
    },
    {
      "cell_type": "code",
      "source": [
        "print(median)"
      ],
      "metadata": {
        "colab": {
          "base_uri": "https://localhost:8080/"
        },
        "id": "0AG8DWR6LDtQ",
        "outputId": "cf94936b-79c9-4b92-a72c-4052e6b40a9b"
      },
      "execution_count": null,
      "outputs": [
        {
          "output_type": "stream",
          "name": "stdout",
          "text": [
            "31.93397331237793\n"
          ]
        }
      ]
    },
    {
      "cell_type": "code",
      "source": [
        "# replace null with median:\n",
        "mydata2 = mydata2.withColumn('lat', when (mydata2.Latitude.isNull(), lit(median)).otherwise(mydata2.Latitude))"
      ],
      "metadata": {
        "id": "F66bMDPDLILi"
      },
      "execution_count": null,
      "outputs": []
    },
    {
      "cell_type": "code",
      "source": [
        "mydata2.show()"
      ],
      "metadata": {
        "colab": {
          "base_uri": "https://localhost:8080/"
        },
        "id": "4iARWJ80L2C2",
        "outputId": "42ff4bd0-cd92-4350-f3f0-40b9edcda39a"
      },
      "execution_count": null,
      "outputs": [
        {
          "output_type": "stream",
          "name": "stdout",
          "text": [
            "+---+----------+----------+------+---------------+--------------------+---------+----------+-----------+---------------+------------+----------------+-----------------+\n",
            "| id|first_name| last_name|gender|           City|            JobTitle|   Salary|  Latitude|  Longitude|     clean_city|clean_salary|      new_salary|              lat|\n",
            "+---+----------+----------+------+---------------+--------------------+---------+----------+-----------+---------------+------------+----------------+-----------------+\n",
            "|  1|   Melinde| Shilburne|Female|      Nowa Ruda| Assistant Professor|$57438.18|50.5774075| 16.4967184|      Nowa Ruda|    57438.18|   57438.1796875|       50.5774075|\n",
            "|  2|  Kimberly|Von Welden|Female|         Bulgan|       Programmer II|$62846.60|48.8231572|103.5218199|         Bulgan|     62846.6|   62846.6015625|       48.8231572|\n",
            "|  4|   Shannon| O'Griffin|  Male|  Divnomorskoye|Budget/Accounting...|$61489.23|44.5047212| 38.1300171|  Divnomorskoye|    61489.23|  61489.23046875|       44.5047212|\n",
            "|  5|  Sherwood|   Macieja|  Male|      Mytishchi|            VP Sales|$63863.09|      null| 37.6489954|      Mytishchi|    63863.09|  63863.08984375|31.93397331237793|\n",
            "|  6|     Maris|      Folk|Female|Kinsealy-Drinan|      Civil Engineer|$30101.16|53.4266145| -6.1644997|Kinsealy-Drinan|    30101.16|  30101.16015625|       53.4266145|\n",
            "|  8|   Goddart|     Flear|  Male|      Trélissac|Desktop Support T...|$46116.36|45.1905186|  0.7423124|      Trélissac|    46116.36|    46116.359375|       45.1905186|\n",
            "|  9|      Roth|O'Cannavan|  Male|         Heitan|VP Product Manage...|$73697.10| 32.027934| 106.657113|         Heitan|     73697.1|   73697.1015625|        32.027934|\n",
            "| 10|      Bran|   Trahear|  Male|       Arbeláez|Mechanical System...|$68098.42|  4.272793| -74.416014|       Arbeláez|    68098.42|    68098.421875|         4.272793|\n",
            "| 11|    Kylynn|   Lockart|Female|       El Cardo|Nuclear Power Eng...|$13604.63|     -5.85|-79.8833329|       El Cardo|    13604.63|13604.6298828125|            -5.85|\n",
            "| 12|       Rey|    Meharg|Female|    Wangqingtuo|Systems Administr...|$73423.70| 39.172378| 116.931607|    Wangqingtuo|     73423.7|    73423.703125|        39.172378|\n",
            "| 13|      Kerr|    Braden|  Male|      Sułkowice|Compensation Analyst|$33432.99|49.8151822| 19.3771749|      Sułkowice|    33432.99|  33432.98828125|       49.8151822|\n",
            "| 14|    Mickie| Whanstall|  Male|    Springfield|Assistant Media P...|$50838.53|42.1014803|-72.5766759|    Springfield|    50838.53|     50838.53125|       42.1014803|\n",
            "| 15|    Kaspar|     Pally|  Male|         Chrást|  Analyst Programmer|$40163.03|49.7923299| 13.4915324|         Chrást|    40163.03|     40163.03125|       49.7923299|\n",
            "| 16|    Norbie|    Gwyllt|  Male|         Xijiao|              Editor|$32492.73|43.4945737|  5.8978018|         Xijiao|    32492.73|  32492.73046875|       43.4945737|\n",
            "| 17|    Claude|    Briant|Female|      Mieścisko|Research Assistan...|$51862.48|52.7441662| 17.3278637|      Mieścisko|    51862.48|  51862.48046875|       52.7441662|\n",
            "| 18|     Thain|    Habbon|  Male| Foros do Trapo|     Design Engineer|$42135.67| 38.696249| -8.7098337| Foros do Trapo|    42135.67|    42135.671875|        38.696249|\n",
            "| 19|  Tiffanie|  Pattison|Female|    Jabungsisir|Senior Financial ...|$91925.08|-7.7232567|113.4686802|    Jabungsisir|    91925.08|    91925.078125|       -7.7232567|\n",
            "| 20|    Ettore|  Gerriets|  Male|          Pedra| Staff Accountant IV|$73921.33|40.7172049| -8.3625148|          Pedra|    73921.33|    73921.328125|       40.7172049|\n",
            "| 21|      Alon|  Chasteau|  Male|          Xin’e|     Web Developer I|$62755.85|  49.16291|  127.98658|          Xin’e|    62755.85|   62755.8515625|         49.16291|\n",
            "| 22|   Guthrey|    Johnke|  Male|         Xijiao|         Developer I|$13708.03|40.7576842| 23.1342184|         Xijiao|    13708.03|13708.0302734375|       40.7576842|\n",
            "+---+----------+----------+------+---------------+--------------------+---------+----------+-----------+---------------+------------+----------------+-----------------+\n",
            "only showing top 20 rows\n",
            "\n"
          ]
        }
      ]
    },
    {
      "cell_type": "markdown",
      "source": [],
      "metadata": {
        "id": "8Qc_gQISL7KB"
      }
    },
    {
      "cell_type": "code",
      "source": [
        "import pyspark.sql.functions as sqlfunc\n",
        "genders = mydata2.groupBy('gender').agg(sqlfunc.avg('new_salary').alias('AvgSalary'))"
      ],
      "metadata": {
        "id": "xAlhtdmNL1o1"
      },
      "execution_count": null,
      "outputs": []
    },
    {
      "cell_type": "code",
      "source": [
        "# Avg salary per gender:\n",
        "genders.show()"
      ],
      "metadata": {
        "colab": {
          "base_uri": "https://localhost:8080/"
        },
        "id": "snhnSfpZPAJV",
        "outputId": "a9acdc1b-e6db-47a9-e176-177c5b1d8ad2"
      },
      "execution_count": null,
      "outputs": [
        {
          "output_type": "stream",
          "name": "stdout",
          "text": [
            "+------+------------------+\n",
            "|gender|         AvgSalary|\n",
            "+------+------------------+\n",
            "|Female|55677.250125558036|\n",
            "|  Male| 55361.09385573019|\n",
            "+------+------------------+\n",
            "\n"
          ]
        }
      ]
    },
    {
      "cell_type": "code",
      "source": [
        "df = mydata2.withColumn('female_salary', when(mydata2.gender=='Female', mydata2.new_salary).otherwise(lit(0)))"
      ],
      "metadata": {
        "id": "4M_-SI0pPVQN"
      },
      "execution_count": null,
      "outputs": []
    },
    {
      "cell_type": "code",
      "source": [
        "df.show()"
      ],
      "metadata": {
        "colab": {
          "base_uri": "https://localhost:8080/"
        },
        "id": "l-HdSOinPnYN",
        "outputId": "c0cecd0f-ccac-4590-e5ae-145f419d4554"
      },
      "execution_count": null,
      "outputs": [
        {
          "output_type": "stream",
          "name": "stdout",
          "text": [
            "+---+----------+----------+------+---------------+--------------------+---------+----------+-----------+---------------+------------+----------------+-----------------+----------------+\n",
            "| id|first_name| last_name|gender|           City|            JobTitle|   Salary|  Latitude|  Longitude|     clean_city|clean_salary|      new_salary|              lat|   female_salary|\n",
            "+---+----------+----------+------+---------------+--------------------+---------+----------+-----------+---------------+------------+----------------+-----------------+----------------+\n",
            "|  1|   Melinde| Shilburne|Female|      Nowa Ruda| Assistant Professor|$57438.18|50.5774075| 16.4967184|      Nowa Ruda|    57438.18|   57438.1796875|       50.5774075|   57438.1796875|\n",
            "|  2|  Kimberly|Von Welden|Female|         Bulgan|       Programmer II|$62846.60|48.8231572|103.5218199|         Bulgan|     62846.6|   62846.6015625|       48.8231572|   62846.6015625|\n",
            "|  4|   Shannon| O'Griffin|  Male|  Divnomorskoye|Budget/Accounting...|$61489.23|44.5047212| 38.1300171|  Divnomorskoye|    61489.23|  61489.23046875|       44.5047212|             0.0|\n",
            "|  5|  Sherwood|   Macieja|  Male|      Mytishchi|            VP Sales|$63863.09|      null| 37.6489954|      Mytishchi|    63863.09|  63863.08984375|31.93397331237793|             0.0|\n",
            "|  6|     Maris|      Folk|Female|Kinsealy-Drinan|      Civil Engineer|$30101.16|53.4266145| -6.1644997|Kinsealy-Drinan|    30101.16|  30101.16015625|       53.4266145|  30101.16015625|\n",
            "|  8|   Goddart|     Flear|  Male|      Trélissac|Desktop Support T...|$46116.36|45.1905186|  0.7423124|      Trélissac|    46116.36|    46116.359375|       45.1905186|             0.0|\n",
            "|  9|      Roth|O'Cannavan|  Male|         Heitan|VP Product Manage...|$73697.10| 32.027934| 106.657113|         Heitan|     73697.1|   73697.1015625|        32.027934|             0.0|\n",
            "| 10|      Bran|   Trahear|  Male|       Arbeláez|Mechanical System...|$68098.42|  4.272793| -74.416014|       Arbeláez|    68098.42|    68098.421875|         4.272793|             0.0|\n",
            "| 11|    Kylynn|   Lockart|Female|       El Cardo|Nuclear Power Eng...|$13604.63|     -5.85|-79.8833329|       El Cardo|    13604.63|13604.6298828125|            -5.85|13604.6298828125|\n",
            "| 12|       Rey|    Meharg|Female|    Wangqingtuo|Systems Administr...|$73423.70| 39.172378| 116.931607|    Wangqingtuo|     73423.7|    73423.703125|        39.172378|    73423.703125|\n",
            "| 13|      Kerr|    Braden|  Male|      Sułkowice|Compensation Analyst|$33432.99|49.8151822| 19.3771749|      Sułkowice|    33432.99|  33432.98828125|       49.8151822|             0.0|\n",
            "| 14|    Mickie| Whanstall|  Male|    Springfield|Assistant Media P...|$50838.53|42.1014803|-72.5766759|    Springfield|    50838.53|     50838.53125|       42.1014803|             0.0|\n",
            "| 15|    Kaspar|     Pally|  Male|         Chrást|  Analyst Programmer|$40163.03|49.7923299| 13.4915324|         Chrást|    40163.03|     40163.03125|       49.7923299|             0.0|\n",
            "| 16|    Norbie|    Gwyllt|  Male|         Xijiao|              Editor|$32492.73|43.4945737|  5.8978018|         Xijiao|    32492.73|  32492.73046875|       43.4945737|             0.0|\n",
            "| 17|    Claude|    Briant|Female|      Mieścisko|Research Assistan...|$51862.48|52.7441662| 17.3278637|      Mieścisko|    51862.48|  51862.48046875|       52.7441662|  51862.48046875|\n",
            "| 18|     Thain|    Habbon|  Male| Foros do Trapo|     Design Engineer|$42135.67| 38.696249| -8.7098337| Foros do Trapo|    42135.67|    42135.671875|        38.696249|             0.0|\n",
            "| 19|  Tiffanie|  Pattison|Female|    Jabungsisir|Senior Financial ...|$91925.08|-7.7232567|113.4686802|    Jabungsisir|    91925.08|    91925.078125|       -7.7232567|    91925.078125|\n",
            "| 20|    Ettore|  Gerriets|  Male|          Pedra| Staff Accountant IV|$73921.33|40.7172049| -8.3625148|          Pedra|    73921.33|    73921.328125|       40.7172049|             0.0|\n",
            "| 21|      Alon|  Chasteau|  Male|          Xin’e|     Web Developer I|$62755.85|  49.16291|  127.98658|          Xin’e|    62755.85|   62755.8515625|         49.16291|             0.0|\n",
            "| 22|   Guthrey|    Johnke|  Male|         Xijiao|         Developer I|$13708.03|40.7576842| 23.1342184|         Xijiao|    13708.03|13708.0302734375|       40.7576842|             0.0|\n",
            "+---+----------+----------+------+---------------+--------------------+---------+----------+-----------+---------------+------------+----------------+-----------------+----------------+\n",
            "only showing top 20 rows\n",
            "\n"
          ]
        }
      ]
    },
    {
      "cell_type": "code",
      "source": [
        "#lit = literal\n",
        "df = df.withColumn('male_salary', when(df.gender=='Male', df.new_salary).otherwise(lit(0)))"
      ],
      "metadata": {
        "id": "sMZmoRsMPthj"
      },
      "execution_count": null,
      "outputs": []
    },
    {
      "cell_type": "code",
      "source": [
        "df.show()"
      ],
      "metadata": {
        "colab": {
          "base_uri": "https://localhost:8080/"
        },
        "id": "FvBCy0xbQPzT",
        "outputId": "8cbc270d-9b51-4f5a-9367-97ed96e81bd0"
      },
      "execution_count": null,
      "outputs": [
        {
          "output_type": "stream",
          "name": "stdout",
          "text": [
            "+---+----------+----------+------+---------------+--------------------+---------+----------+-----------+---------------+------------+----------------+-----------------+----------------+----------------+\n",
            "| id|first_name| last_name|gender|           City|            JobTitle|   Salary|  Latitude|  Longitude|     clean_city|clean_salary|      new_salary|              lat|   female_salary|     male_salary|\n",
            "+---+----------+----------+------+---------------+--------------------+---------+----------+-----------+---------------+------------+----------------+-----------------+----------------+----------------+\n",
            "|  1|   Melinde| Shilburne|Female|      Nowa Ruda| Assistant Professor|$57438.18|50.5774075| 16.4967184|      Nowa Ruda|    57438.18|   57438.1796875|       50.5774075|   57438.1796875|             0.0|\n",
            "|  2|  Kimberly|Von Welden|Female|         Bulgan|       Programmer II|$62846.60|48.8231572|103.5218199|         Bulgan|     62846.6|   62846.6015625|       48.8231572|   62846.6015625|             0.0|\n",
            "|  4|   Shannon| O'Griffin|  Male|  Divnomorskoye|Budget/Accounting...|$61489.23|44.5047212| 38.1300171|  Divnomorskoye|    61489.23|  61489.23046875|       44.5047212|             0.0|  61489.23046875|\n",
            "|  5|  Sherwood|   Macieja|  Male|      Mytishchi|            VP Sales|$63863.09|      null| 37.6489954|      Mytishchi|    63863.09|  63863.08984375|31.93397331237793|             0.0|  63863.08984375|\n",
            "|  6|     Maris|      Folk|Female|Kinsealy-Drinan|      Civil Engineer|$30101.16|53.4266145| -6.1644997|Kinsealy-Drinan|    30101.16|  30101.16015625|       53.4266145|  30101.16015625|             0.0|\n",
            "|  8|   Goddart|     Flear|  Male|      Trélissac|Desktop Support T...|$46116.36|45.1905186|  0.7423124|      Trélissac|    46116.36|    46116.359375|       45.1905186|             0.0|    46116.359375|\n",
            "|  9|      Roth|O'Cannavan|  Male|         Heitan|VP Product Manage...|$73697.10| 32.027934| 106.657113|         Heitan|     73697.1|   73697.1015625|        32.027934|             0.0|   73697.1015625|\n",
            "| 10|      Bran|   Trahear|  Male|       Arbeláez|Mechanical System...|$68098.42|  4.272793| -74.416014|       Arbeláez|    68098.42|    68098.421875|         4.272793|             0.0|    68098.421875|\n",
            "| 11|    Kylynn|   Lockart|Female|       El Cardo|Nuclear Power Eng...|$13604.63|     -5.85|-79.8833329|       El Cardo|    13604.63|13604.6298828125|            -5.85|13604.6298828125|             0.0|\n",
            "| 12|       Rey|    Meharg|Female|    Wangqingtuo|Systems Administr...|$73423.70| 39.172378| 116.931607|    Wangqingtuo|     73423.7|    73423.703125|        39.172378|    73423.703125|             0.0|\n",
            "| 13|      Kerr|    Braden|  Male|      Sułkowice|Compensation Analyst|$33432.99|49.8151822| 19.3771749|      Sułkowice|    33432.99|  33432.98828125|       49.8151822|             0.0|  33432.98828125|\n",
            "| 14|    Mickie| Whanstall|  Male|    Springfield|Assistant Media P...|$50838.53|42.1014803|-72.5766759|    Springfield|    50838.53|     50838.53125|       42.1014803|             0.0|     50838.53125|\n",
            "| 15|    Kaspar|     Pally|  Male|         Chrást|  Analyst Programmer|$40163.03|49.7923299| 13.4915324|         Chrást|    40163.03|     40163.03125|       49.7923299|             0.0|     40163.03125|\n",
            "| 16|    Norbie|    Gwyllt|  Male|         Xijiao|              Editor|$32492.73|43.4945737|  5.8978018|         Xijiao|    32492.73|  32492.73046875|       43.4945737|             0.0|  32492.73046875|\n",
            "| 17|    Claude|    Briant|Female|      Mieścisko|Research Assistan...|$51862.48|52.7441662| 17.3278637|      Mieścisko|    51862.48|  51862.48046875|       52.7441662|  51862.48046875|             0.0|\n",
            "| 18|     Thain|    Habbon|  Male| Foros do Trapo|     Design Engineer|$42135.67| 38.696249| -8.7098337| Foros do Trapo|    42135.67|    42135.671875|        38.696249|             0.0|    42135.671875|\n",
            "| 19|  Tiffanie|  Pattison|Female|    Jabungsisir|Senior Financial ...|$91925.08|-7.7232567|113.4686802|    Jabungsisir|    91925.08|    91925.078125|       -7.7232567|    91925.078125|             0.0|\n",
            "| 20|    Ettore|  Gerriets|  Male|          Pedra| Staff Accountant IV|$73921.33|40.7172049| -8.3625148|          Pedra|    73921.33|    73921.328125|       40.7172049|             0.0|    73921.328125|\n",
            "| 21|      Alon|  Chasteau|  Male|          Xin’e|     Web Developer I|$62755.85|  49.16291|  127.98658|          Xin’e|    62755.85|   62755.8515625|         49.16291|             0.0|   62755.8515625|\n",
            "| 22|   Guthrey|    Johnke|  Male|         Xijiao|         Developer I|$13708.03|40.7576842| 23.1342184|         Xijiao|    13708.03|13708.0302734375|       40.7576842|             0.0|13708.0302734375|\n",
            "+---+----------+----------+------+---------------+--------------------+---------+----------+-----------+---------------+------------+----------------+-----------------+----------------+----------------+\n",
            "only showing top 20 rows\n",
            "\n"
          ]
        }
      ]
    },
    {
      "cell_type": "code",
      "source": [
        "# Calculate avg salary per jog title:\n",
        "df = df.groupBy('JobTitle').agg(sqlfunc.avg('female_salary').alias('female_salary'),sqlfunc.avg('male_salary').alias('male_salary'))"
      ],
      "metadata": {
        "id": "FUXBn_nZQWn3"
      },
      "execution_count": null,
      "outputs": []
    },
    {
      "cell_type": "code",
      "source": [
        "df.show()"
      ],
      "metadata": {
        "colab": {
          "base_uri": "https://localhost:8080/"
        },
        "id": "5V7wkQFOQuo0",
        "outputId": "4c5ac32f-e4ac-4609-de15-c3f24dac68aa"
      },
      "execution_count": null,
      "outputs": [
        {
          "output_type": "stream",
          "name": "stdout",
          "text": [
            "+--------------------+------------------+------------------+\n",
            "|            JobTitle|     female_salary|       male_salary|\n",
            "+--------------------+------------------+------------------+\n",
            "|Systems Administr...|   50590.474609375|  15540.9501953125|\n",
            "|   Media Manager III|29586.436197916668|17381.920572916668|\n",
            "|  Recruiting Manager|34848.452473958336|  26383.4951171875|\n",
            "|       Geologist III|      31749.046875|    12830.75390625|\n",
            "|        Geologist II|               0.0|   43293.865234375|\n",
            "|Database Administ...|               0.0|     52018.4609375|\n",
            "|   Financial Analyst|   23353.776953125|       39606.05625|\n",
            "|  Analyst Programmer|  16406.1287109375|  21042.9634765625|\n",
            "|Software Engineer II|               0.0|      74782.640625|\n",
            "|       Accountant IV|   82732.248046875|               0.0|\n",
            "|    Product Engineer|    41825.48359375|       20464.94375|\n",
            "|Software Test Eng...|  32218.6083984375|   27122.462890625|\n",
            "|Safety Technician...|               0.0|   29421.529296875|\n",
            "|    Junior Executive|15752.220052083334|49510.330729166664|\n",
            "|Systems Administr...|       77059.21875|               0.0|\n",
            "|Human Resources A...|   24022.662109375| 16609.27783203125|\n",
            "|        VP Marketing| 7981.178385416667|52844.534830729164|\n",
            "|  Environmental Tech|13706.980143229166|      45660.890625|\n",
            "|Mechanical System...|31370.781901041668|44321.593098958336|\n",
            "| Assistant Professor|   22175.953515625|   26912.770703125|\n",
            "+--------------------+------------------+------------------+\n",
            "only showing top 20 rows\n",
            "\n"
          ]
        }
      ]
    },
    {
      "cell_type": "code",
      "source": [
        "# difference between gender salary:\n",
        "df = df.withColumn('delta', df.female_salary - df.male_salary).show()"
      ],
      "metadata": {
        "colab": {
          "base_uri": "https://localhost:8080/"
        },
        "id": "HJ05G0MJK4BI",
        "outputId": "b4b177e8-6e96-4059-c924-16894d72081b"
      },
      "execution_count": null,
      "outputs": [
        {
          "output_type": "stream",
          "name": "stdout",
          "text": [
            "+--------------------+------------------+------------------+-------------------+\n",
            "|            JobTitle|     female_salary|       male_salary|              delta|\n",
            "+--------------------+------------------+------------------+-------------------+\n",
            "|Systems Administr...|   50590.474609375|  15540.9501953125|   35049.5244140625|\n",
            "|   Media Manager III|29586.436197916668|17381.920572916668|       12204.515625|\n",
            "|  Recruiting Manager|34848.452473958336|  26383.4951171875|  8464.957356770836|\n",
            "|       Geologist III|      31749.046875|    12830.75390625|     18918.29296875|\n",
            "|        Geologist II|               0.0|   43293.865234375|   -43293.865234375|\n",
            "|Database Administ...|               0.0|     52018.4609375|     -52018.4609375|\n",
            "|   Financial Analyst|   23353.776953125|       39606.05625|   -16252.279296875|\n",
            "|  Analyst Programmer|  16406.1287109375|  21042.9634765625| -4636.834765625001|\n",
            "|Software Engineer II|               0.0|      74782.640625|      -74782.640625|\n",
            "|       Accountant IV|   82732.248046875|               0.0|    82732.248046875|\n",
            "|    Product Engineer|    41825.48359375|       20464.94375| 21360.539843750004|\n",
            "|Software Test Eng...|  32218.6083984375|   27122.462890625|    5096.1455078125|\n",
            "|Safety Technician...|               0.0|   29421.529296875|   -29421.529296875|\n",
            "|    Junior Executive|15752.220052083334|49510.330729166664| -33758.11067708333|\n",
            "|Systems Administr...|       77059.21875|               0.0|        77059.21875|\n",
            "|Human Resources A...|   24022.662109375| 16609.27783203125|   7413.38427734375|\n",
            "|        VP Marketing| 7981.178385416667|52844.534830729164|  -44863.3564453125|\n",
            "|  Environmental Tech|13706.980143229166|      45660.890625|-31953.910481770836|\n",
            "|Mechanical System...|31370.781901041668|44321.593098958336|-12950.811197916668|\n",
            "| Assistant Professor|   22175.953515625|   26912.770703125| -4736.817187500001|\n",
            "+--------------------+------------------+------------------+-------------------+\n",
            "only showing top 20 rows\n",
            "\n"
          ]
        }
      ]
    },
    {
      "cell_type": "code",
      "source": [
        "cityavg = mydata2.groupBy('City').agg(sqlfunc.avg('new_salary').alias('avgsalary'))"
      ],
      "metadata": {
        "id": "WXElq0xALPHC"
      },
      "execution_count": null,
      "outputs": []
    },
    {
      "cell_type": "code",
      "source": [
        "cityavg = cityavg.sort(col('avgsalary').desc())"
      ],
      "metadata": {
        "id": "TS30_QjiNLWC"
      },
      "execution_count": null,
      "outputs": []
    },
    {
      "cell_type": "code",
      "source": [
        "# Top cities with higher avg salary:\n",
        "cityavg.show()"
      ],
      "metadata": {
        "colab": {
          "base_uri": "https://localhost:8080/"
        },
        "id": "8TMyoWOkNUCi",
        "outputId": "448784b3-6a60-4f0e-8de8-41706b368945"
      },
      "execution_count": null,
      "outputs": [
        {
          "output_type": "stream",
          "name": "stdout",
          "text": [
            "+-----------------+-------------+\n",
            "|             City|    avgsalary|\n",
            "+-----------------+-------------+\n",
            "|        Mesopotam|  99948.28125|\n",
            "|       Zhongcheng| 99942.921875|\n",
            "|           Caxias|99786.3984375|\n",
            "|      Karangtawar|99638.9921875|\n",
            "|        Itabaiana|  99502.15625|\n",
            "|           Pasian|  99421.34375|\n",
            "|           Webuye| 99368.546875|\n",
            "|      Yuktae-dong| 99250.828125|\n",
            "|           Zinder|  99222.84375|\n",
            "|   Timiryazevskiy|   99142.9375|\n",
            "|        Sawahbaru|99013.7109375|\n",
            "|          Madimba|98737.8671875|\n",
            "|         Huangshi|  98690.34375|\n",
            "|          Gharyan|   98679.3125|\n",
            "|         Yŏnan-ŭp| 98628.609375|\n",
            "|     Wringinputih|98603.8203125|\n",
            "|Monte da Boavista|  98586.71875|\n",
            "|          Klukeng|98439.4921875|\n",
            "|         Murmashi|  98226.15625|\n",
            "|        Fox Creek|      98138.0|\n",
            "+-----------------+-------------+\n",
            "only showing top 20 rows\n",
            "\n"
          ]
        }
      ]
    }
  ]
}